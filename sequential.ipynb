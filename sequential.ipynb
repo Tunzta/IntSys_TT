{
 "cells": [
  {
   "cell_type": "code",
   "execution_count": 1,
   "id": "fbcb730a-51dc-4b3f-a6d1-d374f23100b8",
   "metadata": {},
   "outputs": [],
   "source": [
    "from tensorflow import keras \n",
    "from tensorflow.keras import layers\n",
    "\n",
    "model = keras.Sequential([\n",
    "    layers.Dense(64, activation=\"relu\"),\n",
    "    layers.Dense(10, activation=\"softmax\")\n",
    "])"
   ]
  },
  {
   "cell_type": "code",
   "execution_count": 2,
   "id": "8b2d46c5-e556-41d3-b157-6abd61e0c232",
   "metadata": {},
   "outputs": [],
   "source": [
    "model = keras.Sequential()\n",
    "model.add(layers.Dense(64, activation=\"relu\"))\n",
    "model.add(layers.Dense(10, activation=\"softmax\"))"
   ]
  },
  {
   "cell_type": "code",
   "execution_count": 3,
   "id": "c2cb849c-2f4e-47c9-b49f-768e55193bd2",
   "metadata": {},
   "outputs": [
    {
     "data": {
      "text/plain": [
       "[]"
      ]
     },
     "execution_count": 3,
     "metadata": {},
     "output_type": "execute_result"
    }
   ],
   "source": [
    "model.weights"
   ]
  },
  {
   "cell_type": "code",
   "execution_count": 4,
   "id": "7f4093c1-0f83-4266-8aec-470caaad5ba3",
   "metadata": {},
   "outputs": [
    {
     "data": {
      "text/plain": [
       "[<Variable path=sequential_1/dense_2/kernel, shape=(3, 64), dtype=float32, value=[[ 0.27473885  0.27033043 -0.21081682  0.13286853 -0.2486054   0.11794323\n",
       "    0.2666701   0.01313293  0.01262879  0.24006909  0.00443104  0.10253161\n",
       "    0.19381222 -0.18568781 -0.24449252  0.03523487 -0.01191953 -0.20452954\n",
       "    0.03729859  0.04211688  0.14513302 -0.17207786  0.02235273 -0.09815145\n",
       "    0.28410584 -0.1704881   0.22698224  0.28117967  0.14752057 -0.03133243\n",
       "   -0.13265492 -0.11681843  0.21609491 -0.22522986 -0.22966173 -0.14269286\n",
       "   -0.02924132  0.23925519 -0.20529145  0.23767465  0.19657338  0.03602797\n",
       "   -0.02748197 -0.28062063 -0.16786145  0.19680253 -0.17748372 -0.06080185\n",
       "   -0.10530759 -0.07633376  0.0205656  -0.0264729  -0.24404709  0.27497602\n",
       "    0.1261583  -0.12912993 -0.23090668 -0.10877472  0.12822232 -0.29368207\n",
       "   -0.03616059  0.28696215  0.1035862  -0.07792687]\n",
       "  [ 0.1991421   0.1866082   0.08894184  0.14669839  0.05226812  0.18897578\n",
       "    0.20210963 -0.09086516  0.1596939   0.09187523  0.15810412  0.24223024\n",
       "   -0.2445384   0.27398425  0.00271234 -0.09550738  0.17156601  0.06329644\n",
       "   -0.15888423 -0.11393814 -0.1876162  -0.01540604  0.2899024   0.2948894\n",
       "    0.11033887  0.13048631  0.18599969  0.13701788 -0.10813545  0.28999835\n",
       "    0.05331379  0.1347678  -0.045663    0.14352334  0.03525782 -0.25630707\n",
       "    0.21430856 -0.09123075  0.2264098   0.15393737  0.03222993 -0.14085296\n",
       "    0.26153022 -0.29769772 -0.21829203  0.14486104  0.18276787  0.07480142\n",
       "    0.0578565  -0.1279193   0.10577378  0.12044752  0.06811625  0.20281518\n",
       "    0.10459277  0.2205404  -0.207686    0.15373394  0.08743805 -0.11096837\n",
       "   -0.03846112  0.2969789  -0.27264294  0.09190497]\n",
       "  [ 0.13513067 -0.22375703 -0.1911479   0.24271405 -0.05545057 -0.1307471\n",
       "    0.20001253 -0.24774674 -0.18916465 -0.03855237  0.19100633 -0.15376434\n",
       "   -0.29116464 -0.26029262  0.00274408 -0.21891075 -0.15537636 -0.08950585\n",
       "   -0.19459398  0.29088765  0.1745004   0.11600772  0.22042042 -0.02969381\n",
       "   -0.00702557 -0.02194953  0.28278947  0.19171283  0.14441177 -0.01689249\n",
       "   -0.2535328  -0.03090876 -0.21577874  0.12371072  0.02560097  0.02038789\n",
       "   -0.10568874  0.02241829  0.02087733 -0.2085648  -0.02819571 -0.14616884\n",
       "    0.16877234  0.20618379 -0.28267872  0.25404495 -0.01202482  0.11261386\n",
       "   -0.1870141   0.20523375 -0.18814503 -0.23703015  0.20866948  0.13880399\n",
       "   -0.02769977  0.00939631  0.18927109  0.04776525 -0.01042977  0.01076669\n",
       "    0.10045555  0.21757454 -0.16864799 -0.10177954]]>,\n",
       " <Variable path=sequential_1/dense_2/bias, shape=(64,), dtype=float32, value=[0. 0. 0. 0. 0. 0. 0. 0. 0. 0. 0. 0. 0. 0. 0. 0. 0. 0. 0. 0. 0. 0. 0. 0.\n",
       "  0. 0. 0. 0. 0. 0. 0. 0. 0. 0. 0. 0. 0. 0. 0. 0. 0. 0. 0. 0. 0. 0. 0. 0.\n",
       "  0. 0. 0. 0. 0. 0. 0. 0. 0. 0. 0. 0. 0. 0. 0. 0.]>,\n",
       " <Variable path=sequential_1/dense_3/kernel, shape=(64, 10), dtype=float32, value=[[ 0.06623182  0.02715406  0.26083234  0.15412048 -0.12473707 -0.25564343\n",
       "    0.09156722  0.23951128  0.24442801  0.18055207]\n",
       "  [ 0.221688   -0.22692919 -0.05536577 -0.02600566 -0.25916123  0.25875512\n",
       "   -0.17014779 -0.26888883  0.02093738  0.26015428]\n",
       "  [-0.11377007 -0.05410908 -0.15503806 -0.10349499 -0.09907915 -0.04661059\n",
       "   -0.03562181 -0.09995213  0.22567603 -0.26245892]\n",
       "  [-0.24375747 -0.10026835 -0.0606178  -0.09417334  0.04016888 -0.02380475\n",
       "    0.2686325  -0.11994165  0.1465497   0.24904975]\n",
       "  [-0.20514026 -0.0563727   0.16174123 -0.13618743 -0.26615474 -0.03223297\n",
       "   -0.04190561  0.23355034  0.17270327  0.06798589]\n",
       "  [ 0.01347592 -0.23383053 -0.00557607 -0.05697536  0.0937497   0.04587469\n",
       "   -0.10918796 -0.24526596  0.267078    0.14804983]\n",
       "  [ 0.03572866  0.27972463 -0.21196407  0.02362213  0.24500796 -0.17537838\n",
       "    0.21770415 -0.10390924  0.26653025 -0.21523876]\n",
       "  [ 0.19696608  0.26245388  0.03238708 -0.12982039  0.27960357  0.16401577\n",
       "   -0.17581666 -0.16533779 -0.12002651  0.14646918]\n",
       "  [ 0.00330085  0.24412778  0.0412845  -0.04251362  0.27687958  0.08205244\n",
       "    0.11319417 -0.21110201 -0.14979362  0.15527987]\n",
       "  [ 0.08631796 -0.23188461  0.15738729 -0.28226796 -0.2320316   0.02281079\n",
       "   -0.01120135  0.09246784  0.1955969  -0.14130445]\n",
       "  [-0.00859204 -0.1895209   0.17625096  0.21054423 -0.2596139  -0.05542083\n",
       "    0.26949802  0.20073766 -0.2286774  -0.03948069]\n",
       "  [ 0.11810437  0.27202174 -0.05924632  0.19318447 -0.17894167 -0.04137351\n",
       "   -0.23065677 -0.01788259 -0.02585047  0.21458098]\n",
       "  [-0.22709987 -0.20995909 -0.26845753  0.00236744  0.12921482  0.03998747\n",
       "    0.00807351  0.02709153  0.2205356   0.21351859]\n",
       "  [-0.16921194  0.15286452 -0.21899757  0.17716792 -0.15704405  0.03427407\n",
       "    0.24500671  0.20013297 -0.15607439  0.01015478]\n",
       "  [ 0.1692611   0.25595263  0.13879919  0.2507479   0.25525644  0.0041233\n",
       "   -0.25079498  0.00545225 -0.17653921  0.27493897]\n",
       "  [ 0.20820573 -0.26521844  0.09500185  0.22773144 -0.15386705  0.283074\n",
       "   -0.09380233  0.11085096  0.0985539   0.01092532]\n",
       "  [ 0.2598658   0.17033952  0.20583755 -0.06754623 -0.07970469  0.19286266\n",
       "   -0.11524875  0.00718695 -0.19852176  0.26504973]\n",
       "  [ 0.01864845 -0.03373653 -0.16461727 -0.23262835 -0.1347932  -0.06485748\n",
       "    0.17844546  0.10738313 -0.25417477  0.22045252]\n",
       "  [ 0.05837977 -0.04932739  0.18158141 -0.06688792 -0.20249197  0.22576633\n",
       "    0.1045453  -0.2465822   0.03027365 -0.07358971]\n",
       "  [ 0.24997821 -0.24116132 -0.2252562  -0.21200575 -0.06219861  0.01770127\n",
       "   -0.25727385 -0.1528261   0.2710829   0.27668008]\n",
       "  [ 0.275741   -0.12087493  0.22407886  0.12238076  0.11069292  0.23336169\n",
       "    0.00185025 -0.12992977 -0.22899859  0.06467092]\n",
       "  [-0.2744087   0.07315564 -0.18533784 -0.08607648 -0.19013399 -0.0390967\n",
       "   -0.10500389  0.00442296  0.105391    0.13587922]\n",
       "  [ 0.24564424 -0.19780812  0.1124171  -0.27868122  0.24752668  0.00298733\n",
       "    0.0235053  -0.08983549  0.15996456 -0.2789678 ]\n",
       "  [ 0.12846586  0.12971124 -0.23679775 -0.02378893 -0.06233269 -0.08627662\n",
       "    0.0188247  -0.19172531 -0.21017417  0.04371229]\n",
       "  [-0.03656356 -0.02913147  0.12856317  0.0566687   0.09113482 -0.10565032\n",
       "   -0.03915298 -0.06171164  0.04312572  0.05163234]\n",
       "  [ 0.20311582  0.11423203  0.26039848  0.1319063   0.12666538  0.26186404\n",
       "    0.20985869  0.24912247 -0.04420638 -0.15252338]\n",
       "  [ 0.16635814 -0.24161808 -0.0286532   0.04336992  0.07261762 -0.14564772\n",
       "   -0.09940527  0.16575807  0.05976078 -0.10242003]\n",
       "  [-0.04632051 -0.2835727   0.13350353 -0.14908895 -0.0186401   0.23805323\n",
       "   -0.21984924  0.08041495  0.23969433 -0.18215948]\n",
       "  [-0.15469842 -0.23560005  0.12334529 -0.17206973  0.13845325 -0.09403953\n",
       "   -0.10688095 -0.24254544 -0.05603862 -0.05320603]\n",
       "  [ 0.22205225 -0.07774134  0.13810009 -0.08734886  0.13186747  0.06964055\n",
       "   -0.04396394 -0.12402497  0.07239154  0.19500577]\n",
       "  [ 0.20652634  0.09902218  0.266557   -0.22688615  0.17852598  0.25120172\n",
       "   -0.178123   -0.26872224 -0.06778792 -0.1484797 ]\n",
       "  [ 0.05509436  0.20253679  0.01680404 -0.2581541  -0.0824565   0.23028252\n",
       "   -0.00765774 -0.12407352  0.22399119 -0.23519862]\n",
       "  [-0.05367669  0.01985702 -0.0186213  -0.10225464  0.11584768 -0.18397442\n",
       "   -0.16057977 -0.20624754  0.1282303   0.10580933]\n",
       "  [ 0.080888   -0.21083228 -0.09849951 -0.16988906 -0.12651691  0.02754036\n",
       "    0.08354518  0.00789884  0.07514247 -0.03139237]\n",
       "  [-0.15349169 -0.22299801  0.26268086  0.0732117   0.19244725 -0.17356038\n",
       "   -0.20477605  0.13533646  0.15263283  0.03735304]\n",
       "  [ 0.17311603  0.09360817 -0.28180826  0.21269456 -0.25238773 -0.261774\n",
       "   -0.15102988  0.2163761   0.2822365  -0.23915234]\n",
       "  [-0.11988197  0.01321468  0.10755631  0.03749281 -0.18705142  0.15774453\n",
       "   -0.07347675 -0.2524571  -0.06828867 -0.01615047]\n",
       "  [ 0.16714752  0.16272378 -0.00992069  0.10839665  0.28434137 -0.04679275\n",
       "    0.18601355  0.22564569 -0.1460706   0.13875154]\n",
       "  [ 0.09406805  0.19739372 -0.13935202 -0.23676468 -0.24025065 -0.17035499\n",
       "    0.01452249 -0.13164213  0.14870638 -0.19840798]\n",
       "  [-0.13795446 -0.22095583 -0.18730187 -0.09747329  0.13861346 -0.16656604\n",
       "   -0.25208345 -0.1281098  -0.13491751 -0.00344706]\n",
       "  [-0.18265167  0.09538671 -0.13973702  0.11376709  0.23623595  0.09142941\n",
       "   -0.01232642 -0.28460136 -0.2685697  -0.10187835]\n",
       "  [-0.18414074 -0.17045099  0.22586408  0.23846987 -0.07053906 -0.11705223\n",
       "    0.24707702  0.27397558 -0.16052899  0.00589296]\n",
       "  [-0.17262188 -0.06584051 -0.20803776  0.27101895  0.24649897  0.05529565\n",
       "    0.13393351 -0.05666795  0.06131232 -0.23297268]\n",
       "  [-0.20147507  0.1852161   0.2692447  -0.18179993  0.14706835 -0.1715937\n",
       "    0.20794463 -0.21787985 -0.19609655  0.00796074]\n",
       "  [-0.00393078  0.2437168   0.07140028  0.22815344 -0.15977713  0.28307095\n",
       "    0.12419191  0.1808564  -0.2764286   0.07084483]\n",
       "  [-0.2629362  -0.18241385  0.13977933 -0.21720564  0.05613971  0.20172828\n",
       "   -0.21133581 -0.24968317 -0.06422645 -0.247516  ]\n",
       "  [-0.10040495  0.25746778 -0.1940347  -0.11250305 -0.07695647  0.26850644\n",
       "    0.02109891 -0.1363856  -0.158608   -0.28154343]\n",
       "  [-0.05329591  0.18873486  0.17339715 -0.03615962  0.19777694 -0.09504062\n",
       "   -0.24100463  0.06200668  0.11436096  0.03783247]\n",
       "  [-0.03131044  0.09813073  0.18426839  0.27695325  0.27591386 -0.20185205\n",
       "    0.25414822  0.23457232  0.17178997 -0.13460793]\n",
       "  [-0.04705724  0.17018792  0.1569683   0.17733616  0.22662988  0.1521565\n",
       "   -0.01915285 -0.00194991 -0.24383031 -0.15513046]\n",
       "  [ 0.20723912  0.12876487 -0.09100848 -0.23399957 -0.16020891 -0.14470005\n",
       "   -0.04629539  0.06965214 -0.12265816  0.26000914]\n",
       "  [-0.26867107 -0.17384136  0.25255153 -0.03813641  0.17247537  0.17876768\n",
       "   -0.17073876 -0.05258137  0.1588727  -0.22115299]\n",
       "  [-0.26088905  0.14292353 -0.21834883  0.19185588 -0.23192787  0.22439888\n",
       "    0.0199849   0.02783573  0.00483772 -0.08396663]\n",
       "  [ 0.0922876   0.0104391  -0.07044095 -0.07799612  0.15165833  0.03911403\n",
       "    0.12877661 -0.03406429 -0.23190737 -0.08241923]\n",
       "  [ 0.11797634  0.26171866 -0.19920751  0.14249235 -0.1263087   0.21501169\n",
       "    0.03316164  0.0535627  -0.26927066 -0.2720328 ]\n",
       "  [ 0.04351878  0.25901398  0.05078074  0.08223146  0.21338329 -0.13366848\n",
       "    0.11812046  0.2665482  -0.06797719 -0.03977567]\n",
       "  [ 0.14243114 -0.10652107 -0.16439874 -0.2560232   0.03736898 -0.24405713\n",
       "   -0.19964015  0.09292445 -0.10216382  0.04664534]\n",
       "  [-0.12543055  0.13961881  0.21010539  0.24365094  0.1838958  -0.03871605\n",
       "   -0.2221168  -0.19281521 -0.05879289 -0.2511307 ]\n",
       "  [-0.24121279 -0.17275378  0.20756295  0.23632076  0.21854177  0.18091345\n",
       "    0.21316782 -0.20548907 -0.02057222  0.22409883]\n",
       "  [-0.22637236  0.07620764 -0.23779334  0.22785679 -0.15926783 -0.27994287\n",
       "   -0.23142359  0.18972707 -0.11235479  0.23175463]\n",
       "  [ 0.05495036 -0.23972553 -0.14207172  0.01971003  0.09433913  0.09290761\n",
       "   -0.15906674 -0.26469547  0.2379686   0.13753653]\n",
       "  [ 0.1172694  -0.20699234  0.09037501  0.1591844   0.04210311  0.11754218\n",
       "    0.01835856  0.06329563 -0.05082746  0.11240664]\n",
       "  [ 0.1862269   0.11177006 -0.16230315  0.06888187 -0.27667165 -0.08840427\n",
       "    0.17318597 -0.13107356  0.07949477  0.11302349]\n",
       "  [ 0.02060407 -0.23902668 -0.11048491  0.20904231 -0.23751107 -0.01379079\n",
       "    0.07780787 -0.08731824 -0.03903832  0.19297278]]>,\n",
       " <Variable path=sequential_1/dense_3/bias, shape=(10,), dtype=float32, value=[0. 0. 0. 0. 0. 0. 0. 0. 0. 0.]>]"
      ]
     },
     "execution_count": 4,
     "metadata": {},
     "output_type": "execute_result"
    }
   ],
   "source": [
    "model.build(input_shape=(None, 3))\n",
    "model.weights"
   ]
  },
  {
   "cell_type": "code",
   "execution_count": 5,
   "id": "b95be9b0-f019-4a48-8240-5ffa12433a81",
   "metadata": {},
   "outputs": [
    {
     "data": {
      "text/html": [
       "<pre style=\"white-space:pre;overflow-x:auto;line-height:normal;font-family:Menlo,'DejaVu Sans Mono',consolas,'Courier New',monospace\"><span style=\"font-weight: bold\">Model: \"sequential_1\"</span>\n",
       "</pre>\n"
      ],
      "text/plain": [
       "\u001b[1mModel: \"sequential_1\"\u001b[0m\n"
      ]
     },
     "metadata": {},
     "output_type": "display_data"
    },
    {
     "data": {
      "text/html": [
       "<pre style=\"white-space:pre;overflow-x:auto;line-height:normal;font-family:Menlo,'DejaVu Sans Mono',consolas,'Courier New',monospace\">┏━━━━━━━━━━━━━━━━━━━━━━━━━━━━━━━━━━━━━━┳━━━━━━━━━━━━━━━━━━━━━━━━━━━━━┳━━━━━━━━━━━━━━━━━┓\n",
       "┃<span style=\"font-weight: bold\"> Layer (type)                         </span>┃<span style=\"font-weight: bold\"> Output Shape                </span>┃<span style=\"font-weight: bold\">         Param # </span>┃\n",
       "┡━━━━━━━━━━━━━━━━━━━━━━━━━━━━━━━━━━━━━━╇━━━━━━━━━━━━━━━━━━━━━━━━━━━━━╇━━━━━━━━━━━━━━━━━┩\n",
       "│ dense_2 (<span style=\"color: #0087ff; text-decoration-color: #0087ff\">Dense</span>)                      │ (<span style=\"color: #00d7ff; text-decoration-color: #00d7ff\">None</span>, <span style=\"color: #00af00; text-decoration-color: #00af00\">64</span>)                  │             <span style=\"color: #00af00; text-decoration-color: #00af00\">256</span> │\n",
       "├──────────────────────────────────────┼─────────────────────────────┼─────────────────┤\n",
       "│ dense_3 (<span style=\"color: #0087ff; text-decoration-color: #0087ff\">Dense</span>)                      │ (<span style=\"color: #00d7ff; text-decoration-color: #00d7ff\">None</span>, <span style=\"color: #00af00; text-decoration-color: #00af00\">10</span>)                  │             <span style=\"color: #00af00; text-decoration-color: #00af00\">650</span> │\n",
       "└──────────────────────────────────────┴─────────────────────────────┴─────────────────┘\n",
       "</pre>\n"
      ],
      "text/plain": [
       "┏━━━━━━━━━━━━━━━━━━━━━━━━━━━━━━━━━━━━━━┳━━━━━━━━━━━━━━━━━━━━━━━━━━━━━┳━━━━━━━━━━━━━━━━━┓\n",
       "┃\u001b[1m \u001b[0m\u001b[1mLayer (type)                        \u001b[0m\u001b[1m \u001b[0m┃\u001b[1m \u001b[0m\u001b[1mOutput Shape               \u001b[0m\u001b[1m \u001b[0m┃\u001b[1m \u001b[0m\u001b[1m        Param #\u001b[0m\u001b[1m \u001b[0m┃\n",
       "┡━━━━━━━━━━━━━━━━━━━━━━━━━━━━━━━━━━━━━━╇━━━━━━━━━━━━━━━━━━━━━━━━━━━━━╇━━━━━━━━━━━━━━━━━┩\n",
       "│ dense_2 (\u001b[38;5;33mDense\u001b[0m)                      │ (\u001b[38;5;45mNone\u001b[0m, \u001b[38;5;34m64\u001b[0m)                  │             \u001b[38;5;34m256\u001b[0m │\n",
       "├──────────────────────────────────────┼─────────────────────────────┼─────────────────┤\n",
       "│ dense_3 (\u001b[38;5;33mDense\u001b[0m)                      │ (\u001b[38;5;45mNone\u001b[0m, \u001b[38;5;34m10\u001b[0m)                  │             \u001b[38;5;34m650\u001b[0m │\n",
       "└──────────────────────────────────────┴─────────────────────────────┴─────────────────┘\n"
      ]
     },
     "metadata": {},
     "output_type": "display_data"
    },
    {
     "data": {
      "text/html": [
       "<pre style=\"white-space:pre;overflow-x:auto;line-height:normal;font-family:Menlo,'DejaVu Sans Mono',consolas,'Courier New',monospace\"><span style=\"font-weight: bold\"> Total params: </span><span style=\"color: #00af00; text-decoration-color: #00af00\">906</span> (3.54 KB)\n",
       "</pre>\n"
      ],
      "text/plain": [
       "\u001b[1m Total params: \u001b[0m\u001b[38;5;34m906\u001b[0m (3.54 KB)\n"
      ]
     },
     "metadata": {},
     "output_type": "display_data"
    },
    {
     "data": {
      "text/html": [
       "<pre style=\"white-space:pre;overflow-x:auto;line-height:normal;font-family:Menlo,'DejaVu Sans Mono',consolas,'Courier New',monospace\"><span style=\"font-weight: bold\"> Trainable params: </span><span style=\"color: #00af00; text-decoration-color: #00af00\">906</span> (3.54 KB)\n",
       "</pre>\n"
      ],
      "text/plain": [
       "\u001b[1m Trainable params: \u001b[0m\u001b[38;5;34m906\u001b[0m (3.54 KB)\n"
      ]
     },
     "metadata": {},
     "output_type": "display_data"
    },
    {
     "data": {
      "text/html": [
       "<pre style=\"white-space:pre;overflow-x:auto;line-height:normal;font-family:Menlo,'DejaVu Sans Mono',consolas,'Courier New',monospace\"><span style=\"font-weight: bold\"> Non-trainable params: </span><span style=\"color: #00af00; text-decoration-color: #00af00\">0</span> (0.00 B)\n",
       "</pre>\n"
      ],
      "text/plain": [
       "\u001b[1m Non-trainable params: \u001b[0m\u001b[38;5;34m0\u001b[0m (0.00 B)\n"
      ]
     },
     "metadata": {},
     "output_type": "display_data"
    }
   ],
   "source": [
    "model.summary()"
   ]
  },
  {
   "cell_type": "code",
   "execution_count": 6,
   "id": "4df865e8-47c7-4897-b395-204962ffaa55",
   "metadata": {},
   "outputs": [
    {
     "data": {
      "text/html": [
       "<pre style=\"white-space:pre;overflow-x:auto;line-height:normal;font-family:Menlo,'DejaVu Sans Mono',consolas,'Courier New',monospace\"><span style=\"font-weight: bold\">Model: \"my_example_model\"</span>\n",
       "</pre>\n"
      ],
      "text/plain": [
       "\u001b[1mModel: \"my_example_model\"\u001b[0m\n"
      ]
     },
     "metadata": {},
     "output_type": "display_data"
    },
    {
     "data": {
      "text/html": [
       "<pre style=\"white-space:pre;overflow-x:auto;line-height:normal;font-family:Menlo,'DejaVu Sans Mono',consolas,'Courier New',monospace\">┏━━━━━━━━━━━━━━━━━━━━━━━━━━━━━━━━━━━━━━┳━━━━━━━━━━━━━━━━━━━━━━━━━━━━━┳━━━━━━━━━━━━━━━━━┓\n",
       "┃<span style=\"font-weight: bold\"> Layer (type)                         </span>┃<span style=\"font-weight: bold\"> Output Shape                </span>┃<span style=\"font-weight: bold\">         Param # </span>┃\n",
       "┡━━━━━━━━━━━━━━━━━━━━━━━━━━━━━━━━━━━━━━╇━━━━━━━━━━━━━━━━━━━━━━━━━━━━━╇━━━━━━━━━━━━━━━━━┩\n",
       "│ my_first_layer (<span style=\"color: #0087ff; text-decoration-color: #0087ff\">Dense</span>)               │ (<span style=\"color: #00d7ff; text-decoration-color: #00d7ff\">None</span>, <span style=\"color: #00af00; text-decoration-color: #00af00\">64</span>)                  │             <span style=\"color: #00af00; text-decoration-color: #00af00\">256</span> │\n",
       "├──────────────────────────────────────┼─────────────────────────────┼─────────────────┤\n",
       "│ my_last_layer (<span style=\"color: #0087ff; text-decoration-color: #0087ff\">Dense</span>)                │ (<span style=\"color: #00d7ff; text-decoration-color: #00d7ff\">None</span>, <span style=\"color: #00af00; text-decoration-color: #00af00\">10</span>)                  │             <span style=\"color: #00af00; text-decoration-color: #00af00\">650</span> │\n",
       "└──────────────────────────────────────┴─────────────────────────────┴─────────────────┘\n",
       "</pre>\n"
      ],
      "text/plain": [
       "┏━━━━━━━━━━━━━━━━━━━━━━━━━━━━━━━━━━━━━━┳━━━━━━━━━━━━━━━━━━━━━━━━━━━━━┳━━━━━━━━━━━━━━━━━┓\n",
       "┃\u001b[1m \u001b[0m\u001b[1mLayer (type)                        \u001b[0m\u001b[1m \u001b[0m┃\u001b[1m \u001b[0m\u001b[1mOutput Shape               \u001b[0m\u001b[1m \u001b[0m┃\u001b[1m \u001b[0m\u001b[1m        Param #\u001b[0m\u001b[1m \u001b[0m┃\n",
       "┡━━━━━━━━━━━━━━━━━━━━━━━━━━━━━━━━━━━━━━╇━━━━━━━━━━━━━━━━━━━━━━━━━━━━━╇━━━━━━━━━━━━━━━━━┩\n",
       "│ my_first_layer (\u001b[38;5;33mDense\u001b[0m)               │ (\u001b[38;5;45mNone\u001b[0m, \u001b[38;5;34m64\u001b[0m)                  │             \u001b[38;5;34m256\u001b[0m │\n",
       "├──────────────────────────────────────┼─────────────────────────────┼─────────────────┤\n",
       "│ my_last_layer (\u001b[38;5;33mDense\u001b[0m)                │ (\u001b[38;5;45mNone\u001b[0m, \u001b[38;5;34m10\u001b[0m)                  │             \u001b[38;5;34m650\u001b[0m │\n",
       "└──────────────────────────────────────┴─────────────────────────────┴─────────────────┘\n"
      ]
     },
     "metadata": {},
     "output_type": "display_data"
    },
    {
     "data": {
      "text/html": [
       "<pre style=\"white-space:pre;overflow-x:auto;line-height:normal;font-family:Menlo,'DejaVu Sans Mono',consolas,'Courier New',monospace\"><span style=\"font-weight: bold\"> Total params: </span><span style=\"color: #00af00; text-decoration-color: #00af00\">906</span> (3.54 KB)\n",
       "</pre>\n"
      ],
      "text/plain": [
       "\u001b[1m Total params: \u001b[0m\u001b[38;5;34m906\u001b[0m (3.54 KB)\n"
      ]
     },
     "metadata": {},
     "output_type": "display_data"
    },
    {
     "data": {
      "text/html": [
       "<pre style=\"white-space:pre;overflow-x:auto;line-height:normal;font-family:Menlo,'DejaVu Sans Mono',consolas,'Courier New',monospace\"><span style=\"font-weight: bold\"> Trainable params: </span><span style=\"color: #00af00; text-decoration-color: #00af00\">906</span> (3.54 KB)\n",
       "</pre>\n"
      ],
      "text/plain": [
       "\u001b[1m Trainable params: \u001b[0m\u001b[38;5;34m906\u001b[0m (3.54 KB)\n"
      ]
     },
     "metadata": {},
     "output_type": "display_data"
    },
    {
     "data": {
      "text/html": [
       "<pre style=\"white-space:pre;overflow-x:auto;line-height:normal;font-family:Menlo,'DejaVu Sans Mono',consolas,'Courier New',monospace\"><span style=\"font-weight: bold\"> Non-trainable params: </span><span style=\"color: #00af00; text-decoration-color: #00af00\">0</span> (0.00 B)\n",
       "</pre>\n"
      ],
      "text/plain": [
       "\u001b[1m Non-trainable params: \u001b[0m\u001b[38;5;34m0\u001b[0m (0.00 B)\n"
      ]
     },
     "metadata": {},
     "output_type": "display_data"
    }
   ],
   "source": [
    "model = keras.Sequential(name=\"my_example_model\")\n",
    "model.add(layers.Dense(64, activation=\"relu\", name=\"my_first_layer\"))\n",
    "model.add(layers.Dense(10, activation=\"softmax\", name=\"my_last_layer\"))\n",
    "model.build((None, 3))\n",
    "model.summary()"
   ]
  },
  {
   "cell_type": "code",
   "execution_count": 7,
   "id": "653e5bad-1e75-4dff-b0f0-aea14a56a9b9",
   "metadata": {},
   "outputs": [],
   "source": [
    "model = keras.Sequential()\n",
    "model.add(keras.Input(shape=(3,)))         \n",
    "model.add(layers.Dense(64, activation=\"relu\"))"
   ]
  },
  {
   "cell_type": "code",
   "execution_count": 8,
   "id": "f589c34b-72cb-4bb6-9767-103e8fb81bb9",
   "metadata": {},
   "outputs": [
    {
     "data": {
      "text/html": [
       "<pre style=\"white-space:pre;overflow-x:auto;line-height:normal;font-family:Menlo,'DejaVu Sans Mono',consolas,'Courier New',monospace\"><span style=\"font-weight: bold\">Model: \"sequential_2\"</span>\n",
       "</pre>\n"
      ],
      "text/plain": [
       "\u001b[1mModel: \"sequential_2\"\u001b[0m\n"
      ]
     },
     "metadata": {},
     "output_type": "display_data"
    },
    {
     "data": {
      "text/html": [
       "<pre style=\"white-space:pre;overflow-x:auto;line-height:normal;font-family:Menlo,'DejaVu Sans Mono',consolas,'Courier New',monospace\">┏━━━━━━━━━━━━━━━━━━━━━━━━━━━━━━━━━━━━━━┳━━━━━━━━━━━━━━━━━━━━━━━━━━━━━┳━━━━━━━━━━━━━━━━━┓\n",
       "┃<span style=\"font-weight: bold\"> Layer (type)                         </span>┃<span style=\"font-weight: bold\"> Output Shape                </span>┃<span style=\"font-weight: bold\">         Param # </span>┃\n",
       "┡━━━━━━━━━━━━━━━━━━━━━━━━━━━━━━━━━━━━━━╇━━━━━━━━━━━━━━━━━━━━━━━━━━━━━╇━━━━━━━━━━━━━━━━━┩\n",
       "│ dense_4 (<span style=\"color: #0087ff; text-decoration-color: #0087ff\">Dense</span>)                      │ (<span style=\"color: #00d7ff; text-decoration-color: #00d7ff\">None</span>, <span style=\"color: #00af00; text-decoration-color: #00af00\">64</span>)                  │             <span style=\"color: #00af00; text-decoration-color: #00af00\">256</span> │\n",
       "└──────────────────────────────────────┴─────────────────────────────┴─────────────────┘\n",
       "</pre>\n"
      ],
      "text/plain": [
       "┏━━━━━━━━━━━━━━━━━━━━━━━━━━━━━━━━━━━━━━┳━━━━━━━━━━━━━━━━━━━━━━━━━━━━━┳━━━━━━━━━━━━━━━━━┓\n",
       "┃\u001b[1m \u001b[0m\u001b[1mLayer (type)                        \u001b[0m\u001b[1m \u001b[0m┃\u001b[1m \u001b[0m\u001b[1mOutput Shape               \u001b[0m\u001b[1m \u001b[0m┃\u001b[1m \u001b[0m\u001b[1m        Param #\u001b[0m\u001b[1m \u001b[0m┃\n",
       "┡━━━━━━━━━━━━━━━━━━━━━━━━━━━━━━━━━━━━━━╇━━━━━━━━━━━━━━━━━━━━━━━━━━━━━╇━━━━━━━━━━━━━━━━━┩\n",
       "│ dense_4 (\u001b[38;5;33mDense\u001b[0m)                      │ (\u001b[38;5;45mNone\u001b[0m, \u001b[38;5;34m64\u001b[0m)                  │             \u001b[38;5;34m256\u001b[0m │\n",
       "└──────────────────────────────────────┴─────────────────────────────┴─────────────────┘\n"
      ]
     },
     "metadata": {},
     "output_type": "display_data"
    },
    {
     "data": {
      "text/html": [
       "<pre style=\"white-space:pre;overflow-x:auto;line-height:normal;font-family:Menlo,'DejaVu Sans Mono',consolas,'Courier New',monospace\"><span style=\"font-weight: bold\"> Total params: </span><span style=\"color: #00af00; text-decoration-color: #00af00\">256</span> (1.00 KB)\n",
       "</pre>\n"
      ],
      "text/plain": [
       "\u001b[1m Total params: \u001b[0m\u001b[38;5;34m256\u001b[0m (1.00 KB)\n"
      ]
     },
     "metadata": {},
     "output_type": "display_data"
    },
    {
     "data": {
      "text/html": [
       "<pre style=\"white-space:pre;overflow-x:auto;line-height:normal;font-family:Menlo,'DejaVu Sans Mono',consolas,'Courier New',monospace\"><span style=\"font-weight: bold\"> Trainable params: </span><span style=\"color: #00af00; text-decoration-color: #00af00\">256</span> (1.00 KB)\n",
       "</pre>\n"
      ],
      "text/plain": [
       "\u001b[1m Trainable params: \u001b[0m\u001b[38;5;34m256\u001b[0m (1.00 KB)\n"
      ]
     },
     "metadata": {},
     "output_type": "display_data"
    },
    {
     "data": {
      "text/html": [
       "<pre style=\"white-space:pre;overflow-x:auto;line-height:normal;font-family:Menlo,'DejaVu Sans Mono',consolas,'Courier New',monospace\"><span style=\"font-weight: bold\"> Non-trainable params: </span><span style=\"color: #00af00; text-decoration-color: #00af00\">0</span> (0.00 B)\n",
       "</pre>\n"
      ],
      "text/plain": [
       "\u001b[1m Non-trainable params: \u001b[0m\u001b[38;5;34m0\u001b[0m (0.00 B)\n"
      ]
     },
     "metadata": {},
     "output_type": "display_data"
    }
   ],
   "source": [
    "model.summary()"
   ]
  },
  {
   "cell_type": "code",
   "execution_count": 9,
   "id": "f9b292fe-2bbe-42c1-902b-24ab1740997f",
   "metadata": {},
   "outputs": [
    {
     "data": {
      "text/html": [
       "<pre style=\"white-space:pre;overflow-x:auto;line-height:normal;font-family:Menlo,'DejaVu Sans Mono',consolas,'Courier New',monospace\"><span style=\"font-weight: bold\">Model: \"sequential_2\"</span>\n",
       "</pre>\n"
      ],
      "text/plain": [
       "\u001b[1mModel: \"sequential_2\"\u001b[0m\n"
      ]
     },
     "metadata": {},
     "output_type": "display_data"
    },
    {
     "data": {
      "text/html": [
       "<pre style=\"white-space:pre;overflow-x:auto;line-height:normal;font-family:Menlo,'DejaVu Sans Mono',consolas,'Courier New',monospace\">┏━━━━━━━━━━━━━━━━━━━━━━━━━━━━━━━━━━━━━━┳━━━━━━━━━━━━━━━━━━━━━━━━━━━━━┳━━━━━━━━━━━━━━━━━┓\n",
       "┃<span style=\"font-weight: bold\"> Layer (type)                         </span>┃<span style=\"font-weight: bold\"> Output Shape                </span>┃<span style=\"font-weight: bold\">         Param # </span>┃\n",
       "┡━━━━━━━━━━━━━━━━━━━━━━━━━━━━━━━━━━━━━━╇━━━━━━━━━━━━━━━━━━━━━━━━━━━━━╇━━━━━━━━━━━━━━━━━┩\n",
       "│ dense_4 (<span style=\"color: #0087ff; text-decoration-color: #0087ff\">Dense</span>)                      │ (<span style=\"color: #00d7ff; text-decoration-color: #00d7ff\">None</span>, <span style=\"color: #00af00; text-decoration-color: #00af00\">64</span>)                  │             <span style=\"color: #00af00; text-decoration-color: #00af00\">256</span> │\n",
       "├──────────────────────────────────────┼─────────────────────────────┼─────────────────┤\n",
       "│ dense_5 (<span style=\"color: #0087ff; text-decoration-color: #0087ff\">Dense</span>)                      │ (<span style=\"color: #00d7ff; text-decoration-color: #00d7ff\">None</span>, <span style=\"color: #00af00; text-decoration-color: #00af00\">10</span>)                  │             <span style=\"color: #00af00; text-decoration-color: #00af00\">650</span> │\n",
       "└──────────────────────────────────────┴─────────────────────────────┴─────────────────┘\n",
       "</pre>\n"
      ],
      "text/plain": [
       "┏━━━━━━━━━━━━━━━━━━━━━━━━━━━━━━━━━━━━━━┳━━━━━━━━━━━━━━━━━━━━━━━━━━━━━┳━━━━━━━━━━━━━━━━━┓\n",
       "┃\u001b[1m \u001b[0m\u001b[1mLayer (type)                        \u001b[0m\u001b[1m \u001b[0m┃\u001b[1m \u001b[0m\u001b[1mOutput Shape               \u001b[0m\u001b[1m \u001b[0m┃\u001b[1m \u001b[0m\u001b[1m        Param #\u001b[0m\u001b[1m \u001b[0m┃\n",
       "┡━━━━━━━━━━━━━━━━━━━━━━━━━━━━━━━━━━━━━━╇━━━━━━━━━━━━━━━━━━━━━━━━━━━━━╇━━━━━━━━━━━━━━━━━┩\n",
       "│ dense_4 (\u001b[38;5;33mDense\u001b[0m)                      │ (\u001b[38;5;45mNone\u001b[0m, \u001b[38;5;34m64\u001b[0m)                  │             \u001b[38;5;34m256\u001b[0m │\n",
       "├──────────────────────────────────────┼─────────────────────────────┼─────────────────┤\n",
       "│ dense_5 (\u001b[38;5;33mDense\u001b[0m)                      │ (\u001b[38;5;45mNone\u001b[0m, \u001b[38;5;34m10\u001b[0m)                  │             \u001b[38;5;34m650\u001b[0m │\n",
       "└──────────────────────────────────────┴─────────────────────────────┴─────────────────┘\n"
      ]
     },
     "metadata": {},
     "output_type": "display_data"
    },
    {
     "data": {
      "text/html": [
       "<pre style=\"white-space:pre;overflow-x:auto;line-height:normal;font-family:Menlo,'DejaVu Sans Mono',consolas,'Courier New',monospace\"><span style=\"font-weight: bold\"> Total params: </span><span style=\"color: #00af00; text-decoration-color: #00af00\">906</span> (3.54 KB)\n",
       "</pre>\n"
      ],
      "text/plain": [
       "\u001b[1m Total params: \u001b[0m\u001b[38;5;34m906\u001b[0m (3.54 KB)\n"
      ]
     },
     "metadata": {},
     "output_type": "display_data"
    },
    {
     "data": {
      "text/html": [
       "<pre style=\"white-space:pre;overflow-x:auto;line-height:normal;font-family:Menlo,'DejaVu Sans Mono',consolas,'Courier New',monospace\"><span style=\"font-weight: bold\"> Trainable params: </span><span style=\"color: #00af00; text-decoration-color: #00af00\">906</span> (3.54 KB)\n",
       "</pre>\n"
      ],
      "text/plain": [
       "\u001b[1m Trainable params: \u001b[0m\u001b[38;5;34m906\u001b[0m (3.54 KB)\n"
      ]
     },
     "metadata": {},
     "output_type": "display_data"
    },
    {
     "data": {
      "text/html": [
       "<pre style=\"white-space:pre;overflow-x:auto;line-height:normal;font-family:Menlo,'DejaVu Sans Mono',consolas,'Courier New',monospace\"><span style=\"font-weight: bold\"> Non-trainable params: </span><span style=\"color: #00af00; text-decoration-color: #00af00\">0</span> (0.00 B)\n",
       "</pre>\n"
      ],
      "text/plain": [
       "\u001b[1m Non-trainable params: \u001b[0m\u001b[38;5;34m0\u001b[0m (0.00 B)\n"
      ]
     },
     "metadata": {},
     "output_type": "display_data"
    }
   ],
   "source": [
    "model.add(layers.Dense(10, activation=\"softmax\"))\n",
    "model.summary()"
   ]
  },
  {
   "cell_type": "code",
   "execution_count": null,
   "id": "949e55e2-b1fa-4d10-beb5-5c920d4b1e64",
   "metadata": {},
   "outputs": [],
   "source": []
  }
 ],
 "metadata": {
  "kernelspec": {
   "display_name": "Python 3 (ipykernel)",
   "language": "python",
   "name": "python3"
  },
  "language_info": {
   "codemirror_mode": {
    "name": "ipython",
    "version": 3
   },
   "file_extension": ".py",
   "mimetype": "text/x-python",
   "name": "python",
   "nbconvert_exporter": "python",
   "pygments_lexer": "ipython3",
   "version": "3.10.18"
  }
 },
 "nbformat": 4,
 "nbformat_minor": 5
}
